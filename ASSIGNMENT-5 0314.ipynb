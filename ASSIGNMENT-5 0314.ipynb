{
 "cells": [
  {
   "cell_type": "markdown",
   "id": "e955cc61-591a-4d3c-9fa5-5b81566be6e6",
   "metadata": {},
   "source": [
    "# ASSIGNMENT-5 03/14/2024"
   ]
  },
  {
   "cell_type": "markdown",
   "id": "5148e3e6-358d-4e09-a57c-1197f3068846",
   "metadata": {},
   "source": [
    "### INSTALLING NETWORKX PACKAGE"
   ]
  },
  {
   "cell_type": "code",
   "execution_count": 1,
   "id": "02aa55c6-ffcb-4548-aff7-4b81d41285fe",
   "metadata": {},
   "outputs": [
    {
     "name": "stdout",
     "output_type": "stream",
     "text": [
      "Requirement already satisfied: networkx in c:\\users\\anush\\appdata\\local\\programs\\python\\python312\\lib\\site-packages (3.2.1)\n",
      "Note: you may need to restart the kernel to use updated packages.\n"
     ]
    },
    {
     "name": "stderr",
     "output_type": "stream",
     "text": [
      "\n",
      "[notice] A new release of pip is available: 23.3.2 -> 24.0\n",
      "[notice] To update, run: python.exe -m pip install --upgrade pip\n"
     ]
    }
   ],
   "source": [
    "pip install networkx"
   ]
  },
  {
   "cell_type": "markdown",
   "id": "5b032c74-fd9e-4867-b7cc-0e27ea61d9c2",
   "metadata": {},
   "source": [
    "### IMPORTING NECESSARY PACKAGES"
   ]
  },
  {
   "cell_type": "code",
   "execution_count": 2,
   "id": "f42913f4-8791-43b2-82b5-97410cf0f9bd",
   "metadata": {},
   "outputs": [],
   "source": [
    "from nltk.corpus import stopwords #you can remove stop words for speed\n",
    "from nltk.cluster.util import cosine_distance\n",
    "import numpy as np\n",
    "import networkx as nx"
   ]
  },
  {
   "cell_type": "markdown",
   "id": "65efda78-047f-4793-a652-55d77450d01e",
   "metadata": {},
   "source": [
    "### OPENING FILE AND SPLITTING INTO SENTENCES"
   ]
  },
  {
   "cell_type": "code",
   "execution_count": 3,
   "id": "0770e9a2-af4d-4500-a898-358cd6140d2a",
   "metadata": {},
   "outputs": [
    {
     "name": "stdout",
     "output_type": "stream",
     "text": [
      "Imagine there's no heaven\n",
      "It's easy if you try\n",
      "No hell below us\n",
      "Above us, only sky\n",
      "Imagine all the people livin' for today\n",
      "Imagine there's no countries\n",
      "It isn't hard to do\n",
      "Nothing to kill or die for and no religion, too\n",
      "Imagine all the people livin' life in peace\n",
      "You may say I'm a dreamer but I'm not the only one\n",
      "I hope someday you'll join us and the world will be as one\n",
      "Imagine no possessions\n",
      "I wonder if you can\n",
      "No need for greed or hunger\n",
      "A brotherhood of man\n",
      "Imagine all the people sharing all the world\n",
      "\n",
      "\n"
     ]
    }
   ],
   "source": [
    "file = open(\"C:/Users/anush/OneDrive/Desktop/Text Based Analysis/Text4.txt\", \"r\")\n",
    "filedata = file.readlines()\n",
    "article = filedata[0].split(\". \") #Just do the first paragraph\n",
    "\n",
    "sentences = []\n",
    "for sentence in article:\n",
    "    print(sentence)\n",
    "    sentences.append(sentence.replace(\"[^a-zA-Z]\", \" \").split(\" \"))"
   ]
  },
  {
   "cell_type": "markdown",
   "id": "ecb71a7f-06dc-421b-bca0-fdb39ed7816c",
   "metadata": {},
   "source": [
    "### LIST OF SENTENCES"
   ]
  },
  {
   "cell_type": "code",
   "execution_count": 4,
   "id": "7bf3d73d-68b6-4a1d-a766-9c0e0d7bcc63",
   "metadata": {},
   "outputs": [
    {
     "name": "stdout",
     "output_type": "stream",
     "text": [
      "Sentences are  [['Imagine', \"there's\", 'no', 'heaven'], [\"It's\", 'easy', 'if', 'you', 'try'], ['No', 'hell', 'below', 'us'], ['Above', 'us,', 'only', 'sky'], ['Imagine', 'all', 'the', 'people', \"livin'\", 'for', 'today'], ['Imagine', \"there's\", 'no', 'countries'], ['It', \"isn't\", 'hard', 'to', 'do'], ['Nothing', 'to', 'kill', 'or', 'die', 'for', 'and', 'no', 'religion,', 'too'], ['Imagine', 'all', 'the', 'people', \"livin'\", 'life', 'in', 'peace'], ['You', 'may', 'say', \"I'm\", 'a', 'dreamer', 'but', \"I'm\", 'not', 'the', 'only', 'one'], ['I', 'hope', 'someday', \"you'll\", 'join', 'us', 'and', 'the', 'world', 'will', 'be', 'as', 'one'], ['Imagine', 'no', 'possessions'], ['I', 'wonder', 'if', 'you', 'can'], ['No', 'need', 'for', 'greed', 'or', 'hunger'], ['A', 'brotherhood', 'of', 'man'], ['Imagine', 'all', 'the', 'people', 'sharing', 'all', 'the', 'world'], ['\\n']]\n"
     ]
    }
   ],
   "source": [
    "print(\"Sentences are \", sentences)"
   ]
  },
  {
   "cell_type": "markdown",
   "id": "1f5ac831-f94f-4024-aa2c-aed38f172480",
   "metadata": {},
   "source": [
    "### CALCULATE SIMILARITY"
   ]
  },
  {
   "cell_type": "code",
   "execution_count": 5,
   "id": "0e81d228-2bc5-4bdc-b636-61a2c33e907a",
   "metadata": {},
   "outputs": [],
   "source": [
    "def sentence_similarity(sent1, sent2 ):\n",
    "    sent1 = [w.lower() for w in sent1]\n",
    "    sent2 = [w.lower() for w in sent2]\n",
    "    all_words = list(set(sent1 + sent2))\n",
    "    vector1 = [0] * len(all_words)\n",
    "    vector2 = [0] * len(all_words)\n",
    "     # build the vector for the first sentence\n",
    "    for w in sent1:\n",
    "          vector1[all_words.index(w)] += 1\n",
    "     # build the vector for the second sentence\n",
    "    for w in sent2:\n",
    "          vector2[all_words.index(w)] += 1\n",
    "    return 1 - cosine_distance(vector1, vector2)"
   ]
  },
  {
   "cell_type": "markdown",
   "id": "70f3ac8e-727b-45e4-9bce-24f17a0e105f",
   "metadata": {},
   "source": [
    "# CREATING SIMILARITY MATRIX"
   ]
  },
  {
   "cell_type": "code",
   "execution_count": 6,
   "id": "6375f9ce-7480-4029-92fe-6b9ff0468529",
   "metadata": {},
   "outputs": [
    {
     "name": "stdout",
     "output_type": "stream",
     "text": [
      "Smilarity matrix \n",
      " [[0.         0.         0.25       0.         0.18898224 0.75\n",
      "  0.         0.15811388 0.1767767  0.         0.         0.57735027\n",
      "  0.         0.20412415 0.         0.14433757 0.        ]\n",
      " [0.         0.         0.         0.         0.         0.\n",
      "  0.         0.         0.         0.11952286 0.         0.\n",
      "  0.4        0.         0.         0.         0.        ]\n",
      " [0.25       0.         0.         0.         0.         0.25\n",
      "  0.         0.15811388 0.         0.         0.13867505 0.28867513\n",
      "  0.         0.20412415 0.         0.         0.        ]\n",
      " [0.         0.         0.         0.         0.         0.\n",
      "  0.         0.         0.         0.13363062 0.         0.\n",
      "  0.         0.         0.         0.         0.        ]\n",
      " [0.18898224 0.         0.         0.         0.         0.18898224\n",
      "  0.         0.11952286 0.6681531  0.10101525 0.10482848 0.21821789\n",
      "  0.         0.15430335 0.         0.65465367 0.        ]\n",
      " [0.75       0.         0.25       0.         0.18898224 0.\n",
      "  0.         0.15811388 0.1767767  0.         0.         0.57735027\n",
      "  0.         0.20412415 0.         0.14433757 0.        ]\n",
      " [0.         0.         0.         0.         0.         0.\n",
      "  0.         0.14142136 0.         0.         0.         0.\n",
      "  0.         0.         0.         0.         0.        ]\n",
      " [0.15811388 0.         0.15811388 0.         0.11952286 0.15811388\n",
      "  0.14142136 0.         0.         0.         0.0877058  0.18257419\n",
      "  0.         0.38729833 0.         0.         0.        ]\n",
      " [0.1767767  0.         0.         0.         0.6681531  0.1767767\n",
      "  0.         0.         0.         0.09449112 0.09805807 0.20412415\n",
      "  0.         0.         0.         0.61237244 0.        ]\n",
      " [0.         0.11952286 0.         0.13363062 0.10101525 0.\n",
      "  0.         0.         0.09449112 0.         0.14824986 0.\n",
      "  0.11952286 0.         0.13363062 0.15430335 0.        ]\n",
      " [0.         0.         0.13867505 0.         0.10482848 0.\n",
      "  0.         0.0877058  0.09805807 0.14824986 0.         0.\n",
      "  0.12403473 0.         0.         0.24019223 0.        ]\n",
      " [0.57735027 0.         0.28867513 0.         0.21821789 0.57735027\n",
      "  0.         0.18257419 0.20412415 0.         0.         0.\n",
      "  0.         0.23570226 0.         0.16666667 0.        ]\n",
      " [0.         0.4        0.         0.         0.         0.\n",
      "  0.         0.         0.         0.11952286 0.12403473 0.\n",
      "  0.         0.         0.         0.         0.        ]\n",
      " [0.20412415 0.         0.20412415 0.         0.15430335 0.20412415\n",
      "  0.         0.38729833 0.         0.         0.         0.23570226\n",
      "  0.         0.         0.         0.         0.        ]\n",
      " [0.         0.         0.         0.         0.         0.\n",
      "  0.         0.         0.         0.13363062 0.         0.\n",
      "  0.         0.         0.         0.         0.        ]\n",
      " [0.14433757 0.         0.         0.         0.65465367 0.14433757\n",
      "  0.         0.         0.61237244 0.15430335 0.24019223 0.16666667\n",
      "  0.         0.         0.         0.         0.        ]\n",
      " [0.         0.         0.         0.         0.         0.\n",
      "  0.         0.         0.         0.         0.         0.\n",
      "  0.         0.         0.         0.         0.        ]]\n"
     ]
    }
   ],
   "source": [
    "similarity_matrix = np.zeros((len(sentences), len(sentences)))\n",
    " \n",
    "for idx1 in range(len(sentences)):\n",
    "        for idx2 in range(len(sentences)):\n",
    "             if idx1 == idx2: #ignore if both are same sentences\n",
    "                continue \n",
    "             similarity_matrix[idx1][idx2] = sentence_similarity(sentences[idx1], sentences[idx2])\n",
    "\n",
    "print(\"Smilarity matrix \\n\", similarity_matrix)"
   ]
  },
  {
   "cell_type": "markdown",
   "id": "37982d5d-7f61-43a6-98b2-e78005f4599e",
   "metadata": {},
   "source": [
    "# GETTING PAGERANK SCORES"
   ]
  },
  {
   "cell_type": "markdown",
   "id": "c571213d-9f79-4720-8dee-91910e3489fd",
   "metadata": {},
   "source": [
    "### Step 3 - Rank sentences in similarity martix"
   ]
  },
  {
   "cell_type": "code",
   "execution_count": 7,
   "id": "6f6a78fd-6d5c-4124-82ac-97e43965133e",
   "metadata": {},
   "outputs": [
    {
     "name": "stdout",
     "output_type": "stream",
     "text": [
      "scores {0: 0.09163334044231103, 1: 0.04408562199586315, 2: 0.05432094163511732, 3: 0.01779516045726271, 4: 0.09575693097837697, 5: 0.09163334044231103, 6: 0.014924507861294583, 7: 0.0653124759476629, 8: 0.08186947693779716, 9: 0.07522194125679456, 10: 0.05101030185038315, 11: 0.09222556696979164, 12: 0.05146059071771966, 13: 0.05778838761945695, 14: 0.01779516045726271, 15: 0.08787832873399998, 16: 0.009287925696594429}\n"
     ]
    }
   ],
   "source": [
    "sentence_similarity_graph = nx.from_numpy_array(similarity_matrix)\n",
    "scores = nx.pagerank(sentence_similarity_graph)\n",
    "print(\"scores\", scores)"
   ]
  },
  {
   "cell_type": "markdown",
   "id": "42cd94bc-61cb-4144-9df7-0f41e1941731",
   "metadata": {},
   "source": [
    "# SORTING SENTENCE BY PAGE RANK"
   ]
  },
  {
   "cell_type": "markdown",
   "id": "ae9bb54c-16d0-40f6-b2c1-880b9fa7bec1",
   "metadata": {},
   "source": [
    "### Step 4 - Sort the rank and pick top sentences"
   ]
  },
  {
   "cell_type": "code",
   "execution_count": 8,
   "id": "0a9e41f9-c2ec-4b0c-8804-573cff40f765",
   "metadata": {},
   "outputs": [
    {
     "name": "stdout",
     "output_type": "stream",
     "text": [
      "Indexes of top ranked_sentence order are \n",
      "\n",
      " [(0.09575693097837697, ['Imagine', 'all', 'the', 'people', \"livin'\", 'for', 'today']), (0.09222556696979164, ['Imagine', 'no', 'possessions']), (0.09163334044231103, ['Imagine', \"there's\", 'no', 'heaven']), (0.09163334044231103, ['Imagine', \"there's\", 'no', 'countries']), (0.08787832873399998, ['Imagine', 'all', 'the', 'people', 'sharing', 'all', 'the', 'world']), (0.08186947693779716, ['Imagine', 'all', 'the', 'people', \"livin'\", 'life', 'in', 'peace']), (0.07522194125679456, ['You', 'may', 'say', \"I'm\", 'a', 'dreamer', 'but', \"I'm\", 'not', 'the', 'only', 'one']), (0.0653124759476629, ['Nothing', 'to', 'kill', 'or', 'die', 'for', 'and', 'no', 'religion,', 'too']), (0.05778838761945695, ['No', 'need', 'for', 'greed', 'or', 'hunger']), (0.05432094163511732, ['No', 'hell', 'below', 'us']), (0.05146059071771966, ['I', 'wonder', 'if', 'you', 'can']), (0.05101030185038315, ['I', 'hope', 'someday', \"you'll\", 'join', 'us', 'and', 'the', 'world', 'will', 'be', 'as', 'one']), (0.04408562199586315, [\"It's\", 'easy', 'if', 'you', 'try']), (0.01779516045726271, ['Above', 'us,', 'only', 'sky']), (0.01779516045726271, ['A', 'brotherhood', 'of', 'man']), (0.014924507861294583, ['It', \"isn't\", 'hard', 'to', 'do']), (0.009287925696594429, ['\\n'])]\n"
     ]
    }
   ],
   "source": [
    "ranked_sentence = sorted(((scores[i],s) for i,s in enumerate(sentences)), reverse=True)    \n",
    "print(\"Indexes of top ranked_sentence order are \\n\\n\", ranked_sentence)"
   ]
  },
  {
   "cell_type": "markdown",
   "id": "c14d8176-37b7-48f3-8e66-2398ffb542b5",
   "metadata": {},
   "source": [
    "# PICKING TOP \"N\" SENTENCES\n"
   ]
  },
  {
   "cell_type": "markdown",
   "id": "08bd5509-3721-4035-abbc-32f8dd49a37f",
   "metadata": {},
   "source": [
    "Step 5 - How many sentences to pick"
   ]
  },
  {
   "cell_type": "code",
   "execution_count": 9,
   "id": "de241df6-205a-4d2a-b696-fe49ac6b14cb",
   "metadata": {},
   "outputs": [
    {
     "name": "stdin",
     "output_type": "stream",
     "text": [
      "How many sentences do you want in the summary?  1\n"
     ]
    }
   ],
   "source": [
    "#Step 5 - How many sentences to pick\n",
    "n = int(input(\"How many sentences do you want in the summary? \"))\n",
    "#n=2\n",
    "summarize_text = []\n",
    "for i in range(n):\n",
    "      summarize_text.append(\" \".join(ranked_sentence[i][1]))"
   ]
  },
  {
   "cell_type": "markdown",
   "id": "33fe853c-874d-4474-bdbd-b09f3e4516b8",
   "metadata": {},
   "source": [
    "# PRINTING SUMMARY"
   ]
  },
  {
   "cell_type": "markdown",
   "id": "bc426d6a-365f-4801-b90c-f7e3364348fd",
   "metadata": {},
   "source": [
    "Step 6 - Offcourse, output the summarize text"
   ]
  },
  {
   "cell_type": "code",
   "execution_count": 10,
   "id": "91f8aca5-2727-4d25-9f13-390286951d1e",
   "metadata": {},
   "outputs": [
    {
     "name": "stdout",
     "output_type": "stream",
     "text": [
      "Summarize Text: \n",
      " Imagine all the people livin' for today\n"
     ]
    }
   ],
   "source": [
    "print(\"Summarize Text: \\n\", \". \".join(summarize_text))"
   ]
  },
  {
   "cell_type": "markdown",
   "id": "c6ae17f6-a6b3-4ee5-a767-da421e49d389",
   "metadata": {},
   "source": [
    "# INSTALLING NETWORKX PACKAGE"
   ]
  },
  {
   "cell_type": "code",
   "execution_count": 11,
   "id": "3e99280c-bca0-404e-8ace-7fed85c06032",
   "metadata": {},
   "outputs": [
    {
     "name": "stdout",
     "output_type": "stream",
     "text": [
      "Requirement already satisfied: networkx in c:\\users\\anush\\appdata\\local\\programs\\python\\python312\\lib\\site-packages (3.2.1)Note: you may need to restart the kernel to use updated packages.\n",
      "\n"
     ]
    },
    {
     "name": "stderr",
     "output_type": "stream",
     "text": [
      "\n",
      "[notice] A new release of pip is available: 23.3.2 -> 24.0\n",
      "[notice] To update, run: python.exe -m pip install --upgrade pip\n"
     ]
    }
   ],
   "source": [
    "pip install networkx"
   ]
  },
  {
   "cell_type": "markdown",
   "id": "aa61573f-7a18-4ba2-93f1-db31e3f50cbb",
   "metadata": {},
   "source": [
    "# IMPORTING NECESSARY PACKAGES\n"
   ]
  },
  {
   "cell_type": "code",
   "execution_count": 12,
   "id": "b42891a5-9d4d-4b24-b638-48d503bf1ac3",
   "metadata": {},
   "outputs": [],
   "source": [
    "from nltk.corpus import stopwords #you can remove stop words for speed\n",
    "from nltk.cluster.util import cosine_distance\n",
    "import numpy as np\n",
    "import networkx as nx"
   ]
  },
  {
   "cell_type": "markdown",
   "id": "b6654004-2170-483b-92a3-1c3bd1435d86",
   "metadata": {},
   "source": [
    "# OPENING FILE AND SPLITTING INTO SENTENCES"
   ]
  },
  {
   "cell_type": "code",
   "execution_count": 13,
   "id": "3b10052f-7aab-473d-8b43-1daff377b981",
   "metadata": {},
   "outputs": [
    {
     "name": "stdout",
     "output_type": "stream",
     "text": [
      "In an attempt to build an AI-ready workforce, Microsoft announced Intelligent Cloud Hub which has been launched to empower the next generation of students with AI-ready skills\n",
      "Envisioned as a three-year collaborative program, Intelligent Cloud Hub will support around 100 institutions with AI infrastructure, course content and curriculum, developer support, development tools and give students access to cloud and AI services\n",
      "As part of the program, the Redmond giant which wants to expand its reach and is planning to build a strong developer ecosystem in India with the program will set up the core AI infrastructure and IoT Hub for the selected campuses\n",
      "The company will provide AI development tools and Azure AI services such as Microsoft Cognitive Services, Bot Services and Azure Machine Learning.According to Manish Prakash, Country General Manager-PS, Health and Education, Microsoft India, said, \"With AI being the defining technology of our time, it is transIn an attempt to build an AI-ready workforce, Microsoft announced Intelligent Cloud Hub which has been launched to empower the next generation of students with AI-ready skills\n",
      "Envisioned as a three-year collaborative program, Intelligent Cloud Hub will support around 100 institutions with AI infrastructure, course content and curriculum, developer support, development tools and give students access to cloud and AI services\n",
      "As part of the program, the Redmond giant which wants to expand its reach and is planning to build a strong developer ecosystem in India with the program will set up the core AI infrastructure and IoT Hub for the selected campuses\n",
      "The company will provide AI development tools and Azure AI services such as Microsoft Cognitive Services, Bot Services and Azure Machine Learning.According to Manish Prakash, Country General Manager-PS, Health and Education, Microsoft India, said, \"With AI being the defining technology of our time, it is transforming lives and industry and the jobs of tomorrow will require a different skillset\n",
      "This will require more collaborations and training and working with AI\n",
      "Thatâ€™s why it has become more critical than ever for educational institutions to integrate new cloud and AI technologies\n",
      "The program is an attempt to ramp up the institutional set-up and build capabilities among the educators to educate the workforce of tomorrow.\" The program aims to build up the cognitive skills and in-depth understanding of developing intelligent cloud connected solutions for applications across industry\n",
      "Earlier in April this year, the company announced Microsoft Professional Program In AI as a learning track open to the public\n",
      "The program was developed to provide job ready skills to programmers who wanted to hone their skills in AI and data science with a series of online courses which featured hands-on labs and expert instructors as well\n",
      "This program also included developer-focused AI school that provided a bunch of assets to help build AI skills.\n"
     ]
    }
   ],
   "source": [
    "file = open(\"C:/Users/anush/OneDrive/Desktop/Text Based Analysis/Text5.txt\", \"r\")\n",
    "#This fileA contains one paragraph of multiple sentences\n",
    "filedata = file.readlines()\n",
    "article = filedata[0].split(\". \") #Just do the first paragraph\n",
    "\n",
    "sentences = []\n",
    "for sentence in article:\n",
    "    print(sentence)\n",
    "    sentences.append(sentence.replace(\"[^a-zA-Z]\", \" \").split(\" \"))"
   ]
  },
  {
   "cell_type": "markdown",
   "id": "52c53216-978b-486a-bc97-1bce4c6b9644",
   "metadata": {},
   "source": [
    "# PRINTING LIST OF SENTENCES\n"
   ]
  },
  {
   "cell_type": "code",
   "execution_count": 14,
   "id": "84413262-fd22-40ed-be51-fe6f515799a1",
   "metadata": {},
   "outputs": [
    {
     "name": "stdout",
     "output_type": "stream",
     "text": [
      "Sentences are  [['In', 'an', 'attempt', 'to', 'build', 'an', 'AI-ready', 'workforce,', 'Microsoft', 'announced', 'Intelligent', 'Cloud', 'Hub', 'which', 'has', 'been', 'launched', 'to', 'empower', 'the', 'next', 'generation', 'of', 'students', 'with', 'AI-ready', 'skills'], ['Envisioned', 'as', 'a', 'three-year', 'collaborative', 'program,', 'Intelligent', 'Cloud', 'Hub', 'will', 'support', 'around', '100', 'institutions', 'with', 'AI', 'infrastructure,', 'course', 'content', 'and', 'curriculum,', 'developer', 'support,', 'development', 'tools', 'and', 'give', 'students', 'access', 'to', 'cloud', 'and', 'AI', 'services'], ['As', 'part', 'of', 'the', 'program,', 'the', 'Redmond', 'giant', 'which', 'wants', 'to', 'expand', 'its', 'reach', 'and', 'is', 'planning', 'to', 'build', 'a', 'strong', 'developer', 'ecosystem', 'in', 'India', 'with', 'the', 'program', 'will', 'set', 'up', 'the', 'core', 'AI', 'infrastructure', 'and', 'IoT', 'Hub', 'for', 'the', 'selected', 'campuses'], ['The', 'company', 'will', 'provide', 'AI', 'development', 'tools', 'and', 'Azure', 'AI', 'services', 'such', 'as', 'Microsoft', 'Cognitive', 'Services,', 'Bot', 'Services', 'and', 'Azure', 'Machine', 'Learning.According', 'to', 'Manish', 'Prakash,', 'Country', 'General', 'Manager-PS,', 'Health', 'and', 'Education,', 'Microsoft', 'India,', 'said,', '\"With', 'AI', 'being', 'the', 'defining', 'technology', 'of', 'our', 'time,', 'it', 'is', 'transIn', 'an', 'attempt', 'to', 'build', 'an', 'AI-ready', 'workforce,', 'Microsoft', 'announced', 'Intelligent', 'Cloud', 'Hub', 'which', 'has', 'been', 'launched', 'to', 'empower', 'the', 'next', 'generation', 'of', 'students', 'with', 'AI-ready', 'skills'], ['Envisioned', 'as', 'a', 'three-year', 'collaborative', 'program,', 'Intelligent', 'Cloud', 'Hub', 'will', 'support', 'around', '100', 'institutions', 'with', 'AI', 'infrastructure,', 'course', 'content', 'and', 'curriculum,', 'developer', 'support,', 'development', 'tools', 'and', 'give', 'students', 'access', 'to', 'cloud', 'and', 'AI', 'services'], ['As', 'part', 'of', 'the', 'program,', 'the', 'Redmond', 'giant', 'which', 'wants', 'to', 'expand', 'its', 'reach', 'and', 'is', 'planning', 'to', 'build', 'a', 'strong', 'developer', 'ecosystem', 'in', 'India', 'with', 'the', 'program', 'will', 'set', 'up', 'the', 'core', 'AI', 'infrastructure', 'and', 'IoT', 'Hub', 'for', 'the', 'selected', 'campuses'], ['The', 'company', 'will', 'provide', 'AI', 'development', 'tools', 'and', 'Azure', 'AI', 'services', 'such', 'as', 'Microsoft', 'Cognitive', 'Services,', 'Bot', 'Services', 'and', 'Azure', 'Machine', 'Learning.According', 'to', 'Manish', 'Prakash,', 'Country', 'General', 'Manager-PS,', 'Health', 'and', 'Education,', 'Microsoft', 'India,', 'said,', '\"With', 'AI', 'being', 'the', 'defining', 'technology', 'of', 'our', 'time,', 'it', 'is', 'transforming', 'lives', 'and', 'industry', 'and', 'the', 'jobs', 'of', 'tomorrow', 'will', 'require', 'a', 'different', 'skillset'], ['This', 'will', 'require', 'more', 'collaborations', 'and', 'training', 'and', 'working', 'with', 'AI'], ['Thatâ€™s', 'why', 'it', 'has', 'become', 'more', 'critical', 'than', 'ever', 'for', 'educational', 'institutions', 'to', 'integrate', 'new', 'cloud', 'and', 'AI', 'technologies'], ['The', 'program', 'is', 'an', 'attempt', 'to', 'ramp', 'up', 'the', 'institutional', 'set-up', 'and', 'build', 'capabilities', 'among', 'the', 'educators', 'to', 'educate', 'the', 'workforce', 'of', 'tomorrow.\"', 'The', 'program', 'aims', 'to', 'build', 'up', 'the', 'cognitive', 'skills', 'and', 'in-depth', 'understanding', 'of', 'developing', 'intelligent', 'cloud', 'connected', 'solutions', 'for', 'applications', 'across', 'industry'], ['Earlier', 'in', 'April', 'this', 'year,', 'the', 'company', 'announced', 'Microsoft', 'Professional', 'Program', 'In', 'AI', 'as', 'a', 'learning', 'track', 'open', 'to', 'the', 'public'], ['The', 'program', 'was', 'developed', 'to', 'provide', 'job', 'ready', 'skills', 'to', 'programmers', 'who', 'wanted', 'to', 'hone', 'their', 'skills', 'in', 'AI', 'and', 'data', 'science', 'with', 'a', 'series', 'of', 'online', 'courses', 'which', 'featured', 'hands-on', 'labs', 'and', 'expert', 'instructors', 'as', 'well'], ['This', 'program', 'also', 'included', 'developer-focused', 'AI', 'school', 'that', 'provided', 'a', 'bunch', 'of', 'assets', 'to', 'help', 'build', 'AI', 'skills.']]\n"
     ]
    }
   ],
   "source": [
    "print(\"Sentences are \", sentences)"
   ]
  },
  {
   "cell_type": "markdown",
   "id": "1106642a-abd3-4906-a1c0-e081436f0d1a",
   "metadata": {},
   "source": [
    "# FUNCTION TO CALCULATE SIMILARITY"
   ]
  },
  {
   "cell_type": "code",
   "execution_count": 15,
   "id": "ce9f7c19-38c0-49df-b20f-99d57b8c5c84",
   "metadata": {},
   "outputs": [],
   "source": [
    "def sentence_similarity(sent1, sent2 ):\n",
    "    sent1 = [w.lower() for w in sent1]\n",
    "    sent2 = [w.lower() for w in sent2]\n",
    "    all_words = list(set(sent1 + sent2))\n",
    "    vector1 = [0] * len(all_words)\n",
    "    vector2 = [0] * len(all_words)\n",
    "     # build the vector for the first sentence\n",
    "    for w in sent1:\n",
    "          vector1[all_words.index(w)] += 1\n",
    "     # build the vector for the second sentence\n",
    "    for w in sent2:\n",
    "          vector2[all_words.index(w)] += 1\n",
    "    return 1 - cosine_distance(vector1, vector2)"
   ]
  },
  {
   "cell_type": "markdown",
   "id": "bf45e21b-6247-4d39-bea3-fed9d22de5cf",
   "metadata": {},
   "source": [
    "# CREATING SIMILARITY MATRIX"
   ]
  },
  {
   "cell_type": "code",
   "execution_count": 16,
   "id": "e70f76d1-cc7f-4a52-86aa-9e72e69c4c25",
   "metadata": {},
   "outputs": [
    {
     "name": "stdout",
     "output_type": "stream",
     "text": [
      "Smilarity matrix \n",
      " [[0.         0.20994555 0.32141217 0.6415029  0.20994555 0.32141217\n",
      "  0.15589237 0.04828045 0.15974461 0.40146253 0.27852425 0.33009387\n",
      "  0.15569979]\n",
      " [0.20994555 0.         0.31546459 0.42735216 1.         0.31546459\n",
      "  0.4500225  0.41812101 0.31127151 0.18964186 0.15075567 0.30785965\n",
      "  0.20225996]\n",
      " [0.32141217 0.31546459 0.         0.45361105 0.31546459 1.\n",
      "  0.45317826 0.23897606 0.16943475 0.64517472 0.44312937 0.412959\n",
      "  0.22019275]\n",
      " [0.6415029  0.42735216 0.45361105 0.         0.42735216 0.45361105\n",
      "  0.78978629 0.28827833 0.26013299 0.46555195 0.34016803 0.39970544\n",
      "  0.25354628]\n",
      " [0.20994555 1.         0.31546459 0.42735216 0.         0.31546459\n",
      "  0.4500225  0.41812101 0.31127151 0.18964186 0.15075567 0.30785965\n",
      "  0.20225996]\n",
      " [0.32141217 0.31546459 1.         0.45361105 0.31546459 0.\n",
      "  0.45317826 0.23897606 0.16943475 0.64517472 0.44312937 0.412959\n",
      "  0.22019275]\n",
      " [0.15589237 0.4500225  0.45317826 0.78978629 0.4500225  0.45317826\n",
      "  0.         0.44155786 0.22827719 0.39637131 0.29851116 0.34833862\n",
      "  0.22249708]\n",
      " [0.04828045 0.41812101 0.23897606 0.28827833 0.41812101 0.23897606\n",
      "  0.44155786 0.         0.25451391 0.11629676 0.11094004 0.24273402\n",
      "  0.1860521 ]\n",
      " [0.15974461 0.31127151 0.16943475 0.26013299 0.31127151 0.16943475\n",
      "  0.22827719 0.25451391 0.         0.16834512 0.09176629 0.20078234\n",
      "  0.15389675]\n",
      " [0.40146253 0.18964186 0.64517472 0.46555195 0.18964186 0.64517472\n",
      "  0.39637131 0.11629676 0.16834512 0.         0.35641684 0.38227015\n",
      "  0.21096325]\n",
      " [0.27852425 0.15075567 0.44312937 0.34016803 0.15075567 0.44312937\n",
      "  0.29851116 0.11094004 0.09176629 0.35641684 0.         0.32090298\n",
      "  0.26832816]\n",
      " [0.33009387 0.30785965 0.412959   0.39970544 0.30785965 0.412959\n",
      "  0.34833862 0.24273402 0.20078234 0.38227015 0.32090298 0.\n",
      "  0.26093123]\n",
      " [0.15569979 0.20225996 0.22019275 0.25354628 0.20225996 0.22019275\n",
      "  0.22249708 0.1860521  0.15389675 0.21096325 0.26832816 0.26093123\n",
      "  0.        ]]\n"
     ]
    }
   ],
   "source": [
    "similarity_matrix = np.zeros((len(sentences), len(sentences)))\n",
    " \n",
    "for idx1 in range(len(sentences)):\n",
    "        for idx2 in range(len(sentences)):\n",
    "             if idx1 == idx2: #ignore if both are same sentences\n",
    "                continue \n",
    "             similarity_matrix[idx1][idx2] = sentence_similarity(sentences[idx1], sentences[idx2])\n",
    "\n",
    "print(\"Smilarity matrix \\n\", similarity_matrix)"
   ]
  },
  {
   "cell_type": "markdown",
   "id": "aca482ee-3b66-49b8-80d6-c16d8da44485",
   "metadata": {},
   "source": [
    "# GETTING PAGERANK SCORES"
   ]
  },
  {
   "cell_type": "markdown",
   "id": "fcee677b-14ee-4727-ad94-fec5fd5b5ff7",
   "metadata": {},
   "source": [
    "Step 3 - Rank sentences in similarity martix"
   ]
  },
  {
   "cell_type": "code",
   "execution_count": 17,
   "id": "aa9df5cb-79c8-4c97-916f-df0a491989da",
   "metadata": {},
   "outputs": [
    {
     "name": "stdout",
     "output_type": "stream",
     "text": [
      "scores {0: 0.06505377280671527, 1: 0.08331029356108051, 2: 0.0944374740565271, 3: 0.0984332545355071, 4: 0.08331029356108051, 5: 0.0944374740565271, 6: 0.08956736183704041, 7: 0.06144739693431779, 8: 0.05275205184695904, 9: 0.08067100597330357, 10: 0.0654765113515673, 11: 0.07702790911312701, 12: 0.054075200366247446}\n"
     ]
    }
   ],
   "source": [
    "sentence_similarity_graph = nx.from_numpy_array(similarity_matrix)\n",
    "scores = nx.pagerank(sentence_similarity_graph)\n",
    "print(\"scores\", scores)"
   ]
  },
  {
   "cell_type": "markdown",
   "id": "eee7f09d-a227-42d5-9ecf-0be6b4b607ab",
   "metadata": {},
   "source": [
    "# SORTING SENTENCE BY PAGE RANK"
   ]
  },
  {
   "cell_type": "markdown",
   "id": "7cda84a1-de19-46e2-8a0f-a3c7cd9c7819",
   "metadata": {},
   "source": [
    "Step 4 - Sort the rank and pick top sentences"
   ]
  },
  {
   "cell_type": "code",
   "execution_count": 18,
   "id": "ba21470d-704f-4563-ae08-4babc01ae95b",
   "metadata": {},
   "outputs": [
    {
     "name": "stdout",
     "output_type": "stream",
     "text": [
      "Indexes of top ranked_sentence order are \n",
      "\n",
      " [(0.0984332545355071, ['The', 'company', 'will', 'provide', 'AI', 'development', 'tools', 'and', 'Azure', 'AI', 'services', 'such', 'as', 'Microsoft', 'Cognitive', 'Services,', 'Bot', 'Services', 'and', 'Azure', 'Machine', 'Learning.According', 'to', 'Manish', 'Prakash,', 'Country', 'General', 'Manager-PS,', 'Health', 'and', 'Education,', 'Microsoft', 'India,', 'said,', '\"With', 'AI', 'being', 'the', 'defining', 'technology', 'of', 'our', 'time,', 'it', 'is', 'transIn', 'an', 'attempt', 'to', 'build', 'an', 'AI-ready', 'workforce,', 'Microsoft', 'announced', 'Intelligent', 'Cloud', 'Hub', 'which', 'has', 'been', 'launched', 'to', 'empower', 'the', 'next', 'generation', 'of', 'students', 'with', 'AI-ready', 'skills']), (0.0944374740565271, ['As', 'part', 'of', 'the', 'program,', 'the', 'Redmond', 'giant', 'which', 'wants', 'to', 'expand', 'its', 'reach', 'and', 'is', 'planning', 'to', 'build', 'a', 'strong', 'developer', 'ecosystem', 'in', 'India', 'with', 'the', 'program', 'will', 'set', 'up', 'the', 'core', 'AI', 'infrastructure', 'and', 'IoT', 'Hub', 'for', 'the', 'selected', 'campuses']), (0.0944374740565271, ['As', 'part', 'of', 'the', 'program,', 'the', 'Redmond', 'giant', 'which', 'wants', 'to', 'expand', 'its', 'reach', 'and', 'is', 'planning', 'to', 'build', 'a', 'strong', 'developer', 'ecosystem', 'in', 'India', 'with', 'the', 'program', 'will', 'set', 'up', 'the', 'core', 'AI', 'infrastructure', 'and', 'IoT', 'Hub', 'for', 'the', 'selected', 'campuses']), (0.08956736183704041, ['The', 'company', 'will', 'provide', 'AI', 'development', 'tools', 'and', 'Azure', 'AI', 'services', 'such', 'as', 'Microsoft', 'Cognitive', 'Services,', 'Bot', 'Services', 'and', 'Azure', 'Machine', 'Learning.According', 'to', 'Manish', 'Prakash,', 'Country', 'General', 'Manager-PS,', 'Health', 'and', 'Education,', 'Microsoft', 'India,', 'said,', '\"With', 'AI', 'being', 'the', 'defining', 'technology', 'of', 'our', 'time,', 'it', 'is', 'transforming', 'lives', 'and', 'industry', 'and', 'the', 'jobs', 'of', 'tomorrow', 'will', 'require', 'a', 'different', 'skillset']), (0.08331029356108051, ['Envisioned', 'as', 'a', 'three-year', 'collaborative', 'program,', 'Intelligent', 'Cloud', 'Hub', 'will', 'support', 'around', '100', 'institutions', 'with', 'AI', 'infrastructure,', 'course', 'content', 'and', 'curriculum,', 'developer', 'support,', 'development', 'tools', 'and', 'give', 'students', 'access', 'to', 'cloud', 'and', 'AI', 'services']), (0.08331029356108051, ['Envisioned', 'as', 'a', 'three-year', 'collaborative', 'program,', 'Intelligent', 'Cloud', 'Hub', 'will', 'support', 'around', '100', 'institutions', 'with', 'AI', 'infrastructure,', 'course', 'content', 'and', 'curriculum,', 'developer', 'support,', 'development', 'tools', 'and', 'give', 'students', 'access', 'to', 'cloud', 'and', 'AI', 'services']), (0.08067100597330357, ['The', 'program', 'is', 'an', 'attempt', 'to', 'ramp', 'up', 'the', 'institutional', 'set-up', 'and', 'build', 'capabilities', 'among', 'the', 'educators', 'to', 'educate', 'the', 'workforce', 'of', 'tomorrow.\"', 'The', 'program', 'aims', 'to', 'build', 'up', 'the', 'cognitive', 'skills', 'and', 'in-depth', 'understanding', 'of', 'developing', 'intelligent', 'cloud', 'connected', 'solutions', 'for', 'applications', 'across', 'industry']), (0.07702790911312701, ['The', 'program', 'was', 'developed', 'to', 'provide', 'job', 'ready', 'skills', 'to', 'programmers', 'who', 'wanted', 'to', 'hone', 'their', 'skills', 'in', 'AI', 'and', 'data', 'science', 'with', 'a', 'series', 'of', 'online', 'courses', 'which', 'featured', 'hands-on', 'labs', 'and', 'expert', 'instructors', 'as', 'well']), (0.0654765113515673, ['Earlier', 'in', 'April', 'this', 'year,', 'the', 'company', 'announced', 'Microsoft', 'Professional', 'Program', 'In', 'AI', 'as', 'a', 'learning', 'track', 'open', 'to', 'the', 'public']), (0.06505377280671527, ['In', 'an', 'attempt', 'to', 'build', 'an', 'AI-ready', 'workforce,', 'Microsoft', 'announced', 'Intelligent', 'Cloud', 'Hub', 'which', 'has', 'been', 'launched', 'to', 'empower', 'the', 'next', 'generation', 'of', 'students', 'with', 'AI-ready', 'skills']), (0.06144739693431779, ['This', 'will', 'require', 'more', 'collaborations', 'and', 'training', 'and', 'working', 'with', 'AI']), (0.054075200366247446, ['This', 'program', 'also', 'included', 'developer-focused', 'AI', 'school', 'that', 'provided', 'a', 'bunch', 'of', 'assets', 'to', 'help', 'build', 'AI', 'skills.']), (0.05275205184695904, ['Thatâ€™s', 'why', 'it', 'has', 'become', 'more', 'critical', 'than', 'ever', 'for', 'educational', 'institutions', 'to', 'integrate', 'new', 'cloud', 'and', 'AI', 'technologies'])]\n"
     ]
    }
   ],
   "source": [
    "ranked_sentence = sorted(((scores[i],s) for i,s in enumerate(sentences)), reverse=True)    \n",
    "print(\"Indexes of top ranked_sentence order are \\n\\n\", ranked_sentence)"
   ]
  },
  {
   "cell_type": "markdown",
   "id": "c4735bef-5460-4a7b-bd5f-85b1549868dd",
   "metadata": {},
   "source": [
    "Step 5 - How many sentences to pick"
   ]
  },
  {
   "cell_type": "code",
   "execution_count": 19,
   "id": "ce734595-f9bc-45ed-87b1-621a8b9b826f",
   "metadata": {},
   "outputs": [
    {
     "name": "stdin",
     "output_type": "stream",
     "text": [
      "How many sentences do you want in the summary?  1\n"
     ]
    }
   ],
   "source": [
    "n = int(input(\"How many sentences do you want in the summary? \"))\n",
    "#n=2\n",
    "summarize_text = []\n",
    "for i in range(n):\n",
    "      summarize_text.append(\" \".join(ranked_sentence[i][1]))"
   ]
  },
  {
   "cell_type": "code",
   "execution_count": 20,
   "id": "a32b38ab-6ae2-4ec3-ae19-827ca900ba04",
   "metadata": {},
   "outputs": [
    {
     "name": "stdout",
     "output_type": "stream",
     "text": [
      "Summarize Text: \n",
      " The company will provide AI development tools and Azure AI services such as Microsoft Cognitive Services, Bot Services and Azure Machine Learning.According to Manish Prakash, Country General Manager-PS, Health and Education, Microsoft India, said, \"With AI being the defining technology of our time, it is transIn an attempt to build an AI-ready workforce, Microsoft announced Intelligent Cloud Hub which has been launched to empower the next generation of students with AI-ready skills\n"
     ]
    }
   ],
   "source": [
    "print(\"Summarize Text: \\n\", \". \".join(summarize_text))"
   ]
  },
  {
   "cell_type": "code",
   "execution_count": null,
   "id": "8e16a35e-61b0-416a-9dc3-3e2c0e668e98",
   "metadata": {},
   "outputs": [],
   "source": []
  }
 ],
 "metadata": {
  "kernelspec": {
   "display_name": "Python 3 (ipykernel)",
   "language": "python",
   "name": "python3"
  },
  "language_info": {
   "codemirror_mode": {
    "name": "ipython",
    "version": 3
   },
   "file_extension": ".py",
   "mimetype": "text/x-python",
   "name": "python",
   "nbconvert_exporter": "python",
   "pygments_lexer": "ipython3",
   "version": "3.12.1"
  }
 },
 "nbformat": 4,
 "nbformat_minor": 5
}

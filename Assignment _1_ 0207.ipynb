{
 "cells": [
  {
   "cell_type": "markdown",
   "id": "d582fd45-180a-4118-a5fc-10479ad58641",
   "metadata": {},
   "source": [
    "# PYTHON STRING OPERATIONS\n",
    "# JOIN()\n",
    "##Join combines elements from iterables into a single string with a separator."
   ]
  },
  {
   "cell_type": "code",
   "execution_count": 2,
   "id": "966fd718-8ea3-4ad8-b8e8-2968b52f31c9",
   "metadata": {},
   "outputs": [
    {
     "name": "stdout",
     "output_type": "stream",
     "text": [
      "Sacred-Heart-University\n"
     ]
    }
   ],
   "source": [
    "string=['Sacred','Heart','University']\n",
    "separator=\"-\"\n",
    "combined_string=separator.join(string)\n",
    "print(combined_string)"
   ]
  },
  {
   "cell_type": "markdown",
   "id": "36088fb7-3019-479b-86aa-1199fe8eda72",
   "metadata": {},
   "source": [
    "##RPARTITION():This function divides the string into 3 parts, string before separator, separator and string after separator"
   ]
  },
  {
   "cell_type": "code",
   "execution_count": 5,
   "id": "de0599ed-c8cd-4df2-ad7f-172f183a1474",
   "metadata": {},
   "outputs": [
    {
     "name": "stdout",
     "output_type": "stream",
     "text": [
      "('The Jupyter ', 'Notebook', ' is a web-based interactive computing platform')\n"
     ]
    }
   ],
   "source": [
    "string=\"The Jupyter Notebook is a web-based interactive computing platform\"\n",
    "print(string.rpartition(\"Notebook\"))"
   ]
  },
  {
   "cell_type": "markdown",
   "id": "993cb3b6-96b5-44a9-a810-d65a97ffa4db",
   "metadata": {},
   "source": [
    "## RFIND()\n",
    "#Returns lowest index of the substring, or if the substring is not contained in the string, returns -1\n"
   ]
  },
  {
   "cell_type": "code",
   "execution_count": 7,
   "id": "58b58d24-088d-4a8e-ab6b-fc4baa1b3848",
   "metadata": {},
   "outputs": [
    {
     "name": "stdout",
     "output_type": "stream",
     "text": [
      "12\n"
     ]
    }
   ],
   "source": [
    "string=\"The Jupyter Notebook is a web-based interactive computing platform\"\n",
    "print(string.rfind(\"Notebook\"))"
   ]
  },
  {
   "cell_type": "markdown",
   "id": "2eab080f-008d-4e94-99ae-6397f13a954a",
   "metadata": {},
   "source": [
    "# REPLACE()\n",
    "##Returns a copy of the string where every occurrence of substring is replaced with new_string\n"
   ]
  },
  {
   "cell_type": "code",
   "execution_count": 9,
   "id": "052deeb0-f826-4bd8-8a25-9eda525d9aac",
   "metadata": {},
   "outputs": [
    {
     "name": "stdout",
     "output_type": "stream",
     "text": [
      "The Jupyter lab is a web-based interactive computing platform\n"
     ]
    }
   ],
   "source": [
    "string=\"The Jupyter Notebook is a web-based interactive computing platform\"\n",
    "print(string.replace(\"Notebook\",\"lab\"))\n"
   ]
  },
  {
   "cell_type": "markdown",
   "id": "d2d4c88a-1760-4da1-afab-d8742616b3aa",
   "metadata": {},
   "source": [
    "# SWAPCASE()\n",
    "##returns the uppercase to lower case and viseversa of given string"
   ]
  },
  {
   "cell_type": "code",
   "execution_count": 11,
   "id": "54cd05f3-e13d-440d-ae30-fa943cafa42c",
   "metadata": {},
   "outputs": [
    {
     "name": "stdout",
     "output_type": "stream",
     "text": [
      "tHE jUPYTER nOTEBOOK IS A WEB-BASED INTERACTIVE COMPUTING PLATFORM\n"
     ]
    }
   ],
   "source": [
    "string=\"The Jupyter Notebook is a web-based interactive computing platform\"\n",
    "print(string.swapcase())"
   ]
  },
  {
   "cell_type": "markdown",
   "id": "17f07bd1-da0e-4a22-bbd2-2fa430b75ada",
   "metadata": {},
   "source": [
    "# RSPLIT()\n",
    "##returns a list containing the words in the string"
   ]
  },
  {
   "cell_type": "code",
   "execution_count": 13,
   "id": "7f2e7a95-2a9b-4569-a7fe-33a262c38606",
   "metadata": {},
   "outputs": [
    {
     "name": "stdout",
     "output_type": "stream",
     "text": [
      "['The', 'Jupyter', 'Notebook', 'is', 'a', 'web-based', 'interactive', 'computing', 'platform']\n"
     ]
    }
   ],
   "source": [
    "string=\"The Jupyter Notebook is a web-based interactive computing platform\"\n",
    "print(string.rsplit())"
   ]
  },
  {
   "cell_type": "markdown",
   "id": "a710b6ef-ba2a-4ff1-9cb4-04cdebd6e5b5",
   "metadata": {},
   "source": [
    "# FORMAT()\n",
    "##Useful when need to iterate over the whole string, such as to count the occurrences of a specific character"
   ]
  },
  {
   "cell_type": "code",
   "execution_count": 15,
   "id": "f47bb2b9-311f-413e-86ae-a1dc67eb1395",
   "metadata": {},
   "outputs": [
    {
     "name": "stdout",
     "output_type": "stream",
     "text": [
      "987.65\n"
     ]
    }
   ],
   "source": [
    "value = 987.654\n",
    "formatted_string = format(value, \".2f\")\n",
    "print(formatted_string)"
   ]
  },
  {
   "cell_type": "markdown",
   "id": "e5efc45a-976a-4772-b8ed-ada374b491f5",
   "metadata": {},
   "source": [
    "# ZFILL()\n",
    "##returns a copy of the string with ‘0’ characters padded to the left side of the given string"
   ]
  },
  {
   "cell_type": "code",
   "execution_count": 19,
   "id": "a8c2c406-c101-488c-98e0-d9be3fce8f42",
   "metadata": {},
   "outputs": [
    {
     "name": "stdout",
     "output_type": "stream",
     "text": [
      "000000000Jupyter Notebook\n",
      "0000Jupyter Notebook\n",
      "Jupyter Notebook\n"
     ]
    }
   ],
   "source": [
    "text = \"Jupyter Notebook\"\n",
    "  \n",
    "print(text.zfill(25)) \n",
    "  \n",
    "print(text.zfill(20)) \n",
    "  \n",
    "# Given length is less than \n",
    "# the length od original string \n",
    "print(text.zfill(10))"
   ]
  },
  {
   "cell_type": "markdown",
   "id": "b848d2bd-1333-4033-ae02-c18df2695632",
   "metadata": {},
   "source": [
    "# LSRTIP()\n",
    "##Returns a copy of the string with all leading whitespace characters removed. Leading whitespace characters are spaces, newlines (\\n), and tabs (\\t) that appear at the beginning of the string"
   ]
  },
  {
   "cell_type": "code",
   "execution_count": 21,
   "id": "dcfb5355-5aa4-4cab-a17d-5d3736cf1926",
   "metadata": {},
   "outputs": [
    {
     "name": "stdout",
     "output_type": "stream",
     "text": [
      "Jupyter Notebook\n"
     ]
    }
   ],
   "source": [
    "string = \"    Jupyter Notebook\" \n",
    "# Removes spaces from left. \n",
    "print(string.lstrip())"
   ]
  },
  {
   "cell_type": "markdown",
   "id": "01e962dc-b1d0-4172-9c9a-1b8432bbc651",
   "metadata": {},
   "source": [
    "# ISSPACE()\n",
    "##Returns true if the string contains only whitespace characters and is at least one character in length. Returns false otherwise."
   ]
  },
  {
   "cell_type": "code",
   "execution_count": 23,
   "id": "afe0e925-9a21-4732-bd1a-7a8baade0547",
   "metadata": {},
   "outputs": [
    {
     "name": "stdout",
     "output_type": "stream",
     "text": [
      "False\n",
      "True\n",
      "False\n"
     ]
    }
   ],
   "source": [
    "# checking for whitespace characters\n",
    "string = 'JUPYTERNOTEBOOK'\n",
    "\n",
    "print(string.isspace())\n",
    "\n",
    "# checking if \\n is a whitespace character\n",
    "string = '\\n \\n \\n'\n",
    "\n",
    "print(string.isspace())\n",
    "\n",
    "string = 'NOTEBOOK\\nfor\\nNOTEBOOK'\n",
    "print( string.isspace())"
   ]
  },
  {
   "cell_type": "markdown",
   "id": "5d28e312-416e-4d04-a196-845f16b0de0d",
   "metadata": {},
   "source": [
    "# RSTRIP(): \n",
    "##Returns a copy of the string with all trailing whitespace characters removed. \n",
    "##Trailing whitespace characters are spaces, newlines (\\n), and tabs (\\t) that appear at the end of the string"
   ]
  },
  {
   "cell_type": "code",
   "execution_count": 29,
   "id": "ce45a05d-dec7-4796-a661-64728f7527a9",
   "metadata": {},
   "outputs": [
    {
     "name": "stdout",
     "output_type": "stream",
     "text": [
      "Pytho\n"
     ]
    }
   ],
   "source": [
    "string=\"Pythonnnnnnnnn\"\n",
    "print(string.rstrip('n'))"
   ]
  },
  {
   "cell_type": "markdown",
   "id": "fd257351-2c78-42fa-8fde-8988ef872f00",
   "metadata": {},
   "source": [
    "# CENTER()\n",
    "##centers the text within a field of width mentioned by user, padding spaces equally on both sides if needed"
   ]
  },
  {
   "cell_type": "code",
   "execution_count": 32,
   "id": "f1a1e8ef-5d28-402b-871a-5b269935305a",
   "metadata": {},
   "outputs": [
    {
     "name": "stdout",
     "output_type": "stream",
     "text": [
      "Centered with custom padding: ---Note---\n"
     ]
    }
   ],
   "source": [
    "text = \"Note\"\n",
    "width = 10\n",
    "custom_padding = \"-\"\n",
    "centered_custom = text.center(width, custom_padding)\n",
    "print(\"Centered with custom padding:\", centered_custom) "
   ]
  },
  {
   "cell_type": "markdown",
   "id": "55fa3490-ceb9-4fd5-8ebe-48d9a6f30095",
   "metadata": {},
   "source": [
    "# MAX() MIN():\n",
    "##helps infinding the maximum and minimum characters (based on their ASCII values) from a string."
   ]
  },
  {
   "cell_type": "code",
   "execution_count": 34,
   "id": "0d192d37-e2d7-45f0-89da-b49be7ea3bda",
   "metadata": {},
   "outputs": [
    {
     "name": "stdout",
     "output_type": "stream",
     "text": [
      "Maximum character: t\n",
      "Minimum character: N\n"
     ]
    }
   ],
   "source": [
    "string = \"Notebook\"\n",
    "max_char = max(string)\n",
    "min_char = min(string)\n",
    "print(\"Maximum character:\", max_char) \n",
    "print(\"Minimum character:\", min_char) "
   ]
  },
  {
   "cell_type": "markdown",
   "id": "9a6c51c1-9914-4ed6-b8af-289f4cbcd41b",
   "metadata": {},
   "source": [
    "# RIGHT()\n",
    "##The rjust() method right-aligns the text within a field of width mentioned by user, padding spaces on the left to fill the remaining space."
   ]
  },
  {
   "cell_type": "code",
   "execution_count": 36,
   "id": "92a0ba61-d091-4a54-9f6b-553522ad4491",
   "metadata": {},
   "outputs": [
    {
     "name": "stdout",
     "output_type": "stream",
     "text": [
      "Right-aligned:       Note\n"
     ]
    }
   ],
   "source": [
    "right_aligned = text.rjust(width)\n",
    "print(\"Right-aligned:\", right_aligned) "
   ]
  },
  {
   "cell_type": "markdown",
   "id": "8db63c1a-6a64-45fd-9b66-8d2f943c051d",
   "metadata": {},
   "source": [
    "# LEFT()\n",
    "##Left-aligns the text within a field of width mentioned by user, padding spaces on the left to fill the remaining space"
   ]
  },
  {
   "cell_type": "code",
   "execution_count": 38,
   "id": "a322ffae-0302-4f0d-8ff4-3121ae3746fd",
   "metadata": {},
   "outputs": [
    {
     "name": "stdout",
     "output_type": "stream",
     "text": [
      "Left-aligned: Note      \n"
     ]
    }
   ],
   "source": [
    "left_aligned = text.ljust(width)\n",
    "print(\"Left-aligned:\", left_aligned)"
   ]
  },
  {
   "cell_type": "markdown",
   "id": "8ea1ed6c-34fa-4ae8-a538-e21bfb51613d",
   "metadata": {},
   "source": [
    "# LEMMATIZATION"
   ]
  },
  {
   "cell_type": "markdown",
   "id": "44e333ff-8a5a-4030-a818-77c08ddc86cb",
   "metadata": {},
   "source": [
    "##Lemmatization is particularly useful for text analysis tasks where you want to group together different forms of the same word to reduce complexity and improve accuracy. It is commonly used in tasks such as document classification, information retrieval, and sentiment analysis"
   ]
  },
  {
   "cell_type": "code",
   "execution_count": 42,
   "id": "2a4ea1e6-fcd6-4059-9fd2-b5a2d82f9fe2",
   "metadata": {},
   "outputs": [
    {
     "name": "stderr",
     "output_type": "stream",
     "text": [
      "[nltk_data] Downloading package punkt to\n",
      "[nltk_data]     C:\\Users\\anush\\AppData\\Roaming\\nltk_data...\n",
      "[nltk_data]   Package punkt is already up-to-date!\n",
      "[nltk_data] Downloading package wordnet to\n",
      "[nltk_data]     C:\\Users\\anush\\AppData\\Roaming\\nltk_data...\n"
     ]
    },
    {
     "name": "stdout",
     "output_type": "stream",
     "text": [
      "Original sentence: The Jupyter Notebook is a web-based interactive computing platform\n",
      "Lemmatized sentence: The Jupyter Notebook is a web-based interactive computing platform\n"
     ]
    }
   ],
   "source": [
    "import nltk\n",
    "from nltk.stem import WordNetLemmatizer\n",
    "from nltk.tokenize import word_tokenize\n",
    "nltk.download('punkt')\n",
    "nltk.download('wordnet')\n",
    "lemmatizer = WordNetLemmatizer()\n",
    "sentence = \"The Jupyter Notebook is a web-based interactive computing platform\"\n",
    "words = word_tokenize(sentence)\n",
    "lemmatized_words = [lemmatizer.lemmatize(word) for word in words]\n",
    "print(\"Original sentence:\", sentence)\n",
    "print(\"Lemmatized sentence:\", ' '.join(lemmatized_words))"
   ]
  },
  {
   "cell_type": "code",
   "execution_count": null,
   "id": "b8c9059a-a4ab-4802-a95f-43e4e403430e",
   "metadata": {},
   "outputs": [],
   "source": []
  }
 ],
 "metadata": {
  "kernelspec": {
   "display_name": "Python 3 (ipykernel)",
   "language": "python",
   "name": "python3"
  },
  "language_info": {
   "codemirror_mode": {
    "name": "ipython",
    "version": 3
   },
   "file_extension": ".py",
   "mimetype": "text/x-python",
   "name": "python",
   "nbconvert_exporter": "python",
   "pygments_lexer": "ipython3",
   "version": "3.12.1"
  }
 },
 "nbformat": 4,
 "nbformat_minor": 5
}

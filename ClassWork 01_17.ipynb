{
 "cells": [
  {
   "cell_type": "markdown",
   "id": "ec7921cda30ff17",
   "metadata": {
    "collapsed": false,
    "jupyter": {
     "outputs_hidden": false
    }
   },
   "source": [
    "#TextBased Analysis"
   ]
  },
  {
   "cell_type": "code",
   "execution_count": 1,
   "id": "d5e11a9a-e939-462a-ad88-6a387c17daa3",
   "metadata": {},
   "outputs": [
    {
     "name": "stdout",
     "output_type": "stream",
     "text": [
      "Hello, World!\n"
     ]
    }
   ],
   "source": [
    "a=\"Hello, World!\"\n",
    "# Print the variable value in 'a'\n",
    "print (a) "
   ]
  },
  {
   "cell_type": "code",
   "execution_count": 13,
   "id": "18f83505-9540-4dc6-b0cf-4f8edc6f6447",
   "metadata": {},
   "outputs": [
    {
     "name": "stdout",
     "output_type": "stream",
     "text": [
      "Hello world\n"
     ]
    }
   ],
   "source": [
    "a=\"Hello\"\n",
    "b=\"world\"\n",
    "# Concatenate the strings 'a' and 'b' and store in variable 'c'\n",
    "c=a + \" \" + b\n",
    "#print variable 'c'\n",
    "print(c)"
   ]
  },
  {
   "cell_type": "code",
   "execution_count": null,
   "id": "50d34880-e073-4c5b-b1a0-f3982fa3bcb2",
   "metadata": {},
   "outputs": [],
   "source": [
    "a = \"Hello World!\"\n",
    "# Print the character at index 1 stored in 'a'\n",
    "print (a[1]) \n",
    "b = \"Hello World!\"\n",
    "# Print the substring starting from index 2 and ending at index 4 \n",
    "print (b[2:5])"
   ]
  },
  {
   "cell_type": "code",
   "execution_count": 3,
   "id": "1bda1a1d-d826-4cbc-9da3-edb182deaab6",
   "metadata": {},
   "outputs": [
    {
     "name": "stdout",
     "output_type": "stream",
     "text": [
      "12\n",
      "HELLO WORLD!\n",
      "hello world!\n",
      "Jello World!\n"
     ]
    }
   ],
   "source": [
    "a = \"Hello World!\"\n",
    "print(len(a))\n",
    "#print the uppercase version of  the string stored for variable 'a'\n",
    "print (a.upper())\n",
    "#print the lowercase version of the string for variable 'a'\n",
    "print (a.lower())\n",
    "#Replace the letter 'H' with 'J' in the string stored for variable 'a'\n",
    "print (a.replace(\"H\",\"J\"))"
   ]
  },
  {
   "cell_type": "code",
   "execution_count": 4,
   "id": "1babc2bd-9b1f-41bc-b4cf-f7628191e389",
   "metadata": {},
   "outputs": [
    {
     "data": {
      "text/plain": [
       "['One', 'two', 'three', 'four']"
      ]
     },
     "execution_count": 4,
     "metadata": {},
     "output_type": "execute_result"
    }
   ],
   "source": [
    "my_string = 'One two three four'\n",
    "#Split the string stored in the variable 'my_string'\n",
    "word_list = my_string.split()\n",
    "# Print the list of words\n",
    "word_list"
   ]
  },
  {
   "cell_type": "code",
   "execution_count": 5,
   "id": "193828a4-9912-4d35-b732-e48729e12e0b",
   "metadata": {},
   "outputs": [
    {
     "data": {
      "text/plain": [
       "['1', '2', '3', '4']"
      ]
     },
     "execution_count": 5,
     "metadata": {},
     "output_type": "execute_result"
    }
   ],
   "source": [
    "my_string = '1/2/3/4'\n",
    "# Split the string stored in 'my_string' into a list of numbers using '/' as the delimiter\n",
    "number_list = my_string.split('/')\n",
    "number_list"
   ]
  },
  {
   "cell_type": "code",
   "execution_count": 6,
   "id": "016cd18f-e907-42f9-a39e-aca122992a4b",
   "metadata": {},
   "outputs": [
    {
     "data": {
      "text/plain": [
       "['peach', 'raspberry', 'strawberry', 'vanilla']"
      ]
     },
     "execution_count": 6,
     "metadata": {},
     "output_type": "execute_result"
    }
   ],
   "source": [
    "string = 'peach raspberry strawberry vanilla'\n",
    "# Split the string stored in variable 'string' into a list of tokens\n",
    "tokens = string.split()\n",
    "tokens"
   ]
  },
  {
   "cell_type": "code",
   "execution_count": 7,
   "id": "bf60d829-1ed0-449a-80b4-eacf170e455f",
   "metadata": {},
   "outputs": [
    {
     "data": {
      "text/plain": [
       "['www.sacredheartuniversity.com']"
      ]
     },
     "execution_count": 7,
     "metadata": {},
     "output_type": "execute_result"
    }
   ],
   "source": [
    "my_address = 'www.sacredheartuniversity.com'\n",
    "# Split the string stored in variable 'my_address' into a list of tokens\n",
    "tokens = my_address.split()\n",
    "tokens"
   ]
  },
  {
   "cell_type": "code",
   "execution_count": 8,
   "id": "a1edd45e-34be-4c14-a782-542e7954f675",
   "metadata": {},
   "outputs": [
    {
     "data": {
      "text/plain": [
       "['17;92;81;12;46;5']"
      ]
     },
     "execution_count": 8,
     "metadata": {},
     "output_type": "execute_result"
    }
   ],
   "source": [
    "str = '17;92;81;12;46;5'\n",
    "# Split the string stored in variable 'str' into a list of tokens\n",
    "tokens = str.split()\n",
    "# Print the tokens obtained after splitting the string\n",
    "tokens"
   ]
  },
  {
   "cell_type": "code",
   "execution_count": 9,
   "id": "ff051c1e-a7b2-4cf9-a9e7-b0019858a6de",
   "metadata": {},
   "outputs": [
    {
     "name": "stdout",
     "output_type": "stream",
     "text": [
      "slice1 Anusha E\n",
      "slice2 ush\n",
      "slice3  Ed\n"
     ]
    }
   ],
   "source": [
    "text = 'Anusha Edara'\n",
    "# Extract slice from index 0 to 7 from the string stored in 'text'\n",
    "slice1 = text[0:8]\n",
    "# Extract slice from index 2 to 5 from the string stored in 'text'\n",
    "slice2 = text[2:5]\n",
    "# Extract slice from index 6 to 9 from the string stored in 'text'\n",
    "slice3 = text[6:9]\n",
    "# Print the slices obtained from the string 'text'\n",
    "print(\"slice1\" , slice1)\n",
    "print(\"slice2\", slice2)\n",
    "print(\"slice3\",slice3)"
   ]
  },
  {
   "cell_type": "code",
   "execution_count": 10,
   "id": "075879f6-f89a-4142-a170-1c36fcdaf0bf",
   "metadata": {},
   "outputs": [
    {
     "name": "stdout",
     "output_type": "stream",
     "text": [
      "12\n",
      "ANUSHA EDARA\n",
      "Anusha Edara\n"
     ]
    }
   ],
   "source": [
    "a = 'Anusha Edara'\n",
    "# Print the length of the string stored in 'a'\n",
    "print(len(a))\n",
    "# Print the uppercase version of the string in variable 'a'\n",
    "print(a.upper())\n",
    "print(a.lstrip())"
   ]
  },
  {
   "cell_type": "code",
   "execution_count": 11,
   "id": "61b81c27-3f6c-4c74-8629-1bf9e6212949",
   "metadata": {},
   "outputs": [
    {
     "name": "stdout",
     "output_type": "stream",
     "text": [
      "12\n",
      "anusha edara\n",
      "Anusha Edara\n",
      "Anusha Edara\n"
     ]
    }
   ],
   "source": [
    "a = 'Anusha Edara'\n",
    "print(len(a))\n",
    "print(a.lower())\n",
    "print(a.rstrip())\n",
    "# Print the string stored in the variable 'a'\n",
    "print(a.strip())"
   ]
  },
  {
   "cell_type": "code",
   "execution_count": 12,
   "id": "cc6ff9a3-169b-48cc-b038-e323bbd9aa66",
   "metadata": {},
   "outputs": [
    {
     "name": "stdout",
     "output_type": "stream",
     "text": [
      "12\n",
      "False\n"
     ]
    }
   ],
   "source": [
    "a = 'Anusha Edara'\n",
    "print(len(a))\n",
    "# Check if all characters in the string stored in 'a' are alphanumeric and print the result\n",
    "print(a.isalnum())"
   ]
  }
 ],
 "metadata": {
  "kernelspec": {
   "display_name": "Python 3 (ipykernel)",
   "language": "python",
   "name": "python3"
  },
  "language_info": {
   "codemirror_mode": {
    "name": "ipython",
    "version": 3
   },
   "file_extension": ".py",
   "mimetype": "text/x-python",
   "name": "python",
   "nbconvert_exporter": "python",
   "pygments_lexer": "ipython3",
   "version": "3.12.1"
  }
 },
 "nbformat": 4,
 "nbformat_minor": 5
}
